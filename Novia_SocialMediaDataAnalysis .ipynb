{
 "cells": [
  {
   "cell_type": "markdown",
   "metadata": {},
   "source": [
    "# Clean & Analyze Social Media"
   ]
  },
  {
   "cell_type": "markdown",
   "metadata": {},
   "source": [
    "## Introduction\n",
    "\n",
    "Social media has become a ubiquitous part of modern life, with platforms such as Instagram, Twitter, and Facebook serving as essential communication channels. Social media data sets are vast and complex, making analysis a challenging task for businesses and researchers alike. In this project, we explore a simulated social media, for example Tweets, data set to understand trends in likes across different categories.\n",
    "\n",
    "## Prerequisites\n",
    "\n",
    "To follow along with this project, you should have a basic understanding of Python programming and data analysis concepts. In addition, you may want to use the following packages in your Python environment:\n",
    "\n",
    "- pandas\n",
    "- Matplotlib\n",
    "- ...\n",
    "\n",
    "These packages should already be installed in Coursera's Jupyter Notebook environment, however if you'd like to install additional packages that are not included in this environment or are working off platform you can install additional packages using `!pip install packagename` within a notebook cell such as:\n",
    "\n",
    "- `!pip install pandas`\n",
    "- `!pip install matplotlib`\n",
    "\n",
    "## Project Scope\n",
    "\n",
    "The objective of this project is to analyze tweets (or other social media data) and gain insights into user engagement. We will explore the data set using visualization techniques to understand the distribution of likes across different categories. Finally, we will analyze the data to draw conclusions about the most popular categories and the overall engagement on the platform.\n",
    "\n",
    "## Step 1: Importing Required Libraries\n",
    "\n",
    "As the name suggests, the first step is to import all the necessary libraries that will be used in the project. In this case, we need pandas, numpy, matplotlib, seaborn, and random libraries.\n",
    "\n",
    "Pandas is a library used for data manipulation and analysis. Numpy is a library used for numerical computations. Matplotlib is a library used for data visualization. Seaborn is a library used for statistical data visualization. Random is a library used to generate random numbers."
   ]
  },
  {
   "cell_type": "code",
   "execution_count": 5,
   "metadata": {},
   "outputs": [],
   "source": [
    "\n",
    "import pandas as pd\n",
    "import numpy as np\n",
    "import matplotlib.pyplot as plt \n",
    "import seaborn as sns\n",
    "import random"
   ]
  },
  {
   "cell_type": "code",
   "execution_count": 6,
   "metadata": {},
   "outputs": [],
   "source": [
    "n = 500\n",
    "\n",
    "categories = ['Food', 'Travel', 'Fashion', 'Fitness', 'Music', 'Culture', 'Family', 'Health']\n",
    "\n",
    "data = {\n",
    "    'Date': pd.date_range('2021-01-01', periods=n),\n",
    "    \n",
    "    'Category': [random.choice(categories) for _ in range(n)],\n",
    "    \n",
    "    'Likes': np.random.randint(0, 10000, size=n)\n",
    "}"
   ]
  },
  {
   "cell_type": "code",
   "execution_count": 7,
   "metadata": {},
   "outputs": [
    {
     "name": "stdout",
     "output_type": "stream",
     "text": [
      "--- Data Loaded into DataFrame ---\n",
      "          Date Category  Likes\n",
      "0   2021-01-01   Family   4673\n",
      "1   2021-01-02     Food    481\n",
      "2   2021-01-03  Fashion   4236\n",
      "3   2021-01-04   Health    802\n",
      "4   2021-01-05   Health   6198\n",
      "..         ...      ...    ...\n",
      "495 2022-05-11  Fashion   2279\n",
      "496 2022-05-12  Fitness   8410\n",
      "497 2022-05-13     Food   8384\n",
      "498 2022-05-14  Culture   9363\n",
      "499 2022-05-15  Fashion   1425\n",
      "\n",
      "[500 rows x 3 columns]\n",
      "\n",
      "==================================================\n",
      "\n",
      "--- DataFrame Head ---\n",
      "        Date Category  Likes\n",
      "0 2021-01-01   Family   4673\n",
      "1 2021-01-02     Food    481\n",
      "2 2021-01-03  Fashion   4236\n",
      "3 2021-01-04   Health    802\n",
      "4 2021-01-05   Health   6198\n",
      "\n",
      "==================================================\n",
      "\n",
      "--- DataFrame Info ---\n",
      "<class 'pandas.core.frame.DataFrame'>\n",
      "RangeIndex: 500 entries, 0 to 499\n",
      "Data columns (total 3 columns):\n",
      " #   Column    Non-Null Count  Dtype         \n",
      "---  ------    --------------  -----         \n",
      " 0   Date      500 non-null    datetime64[ns]\n",
      " 1   Category  500 non-null    object        \n",
      " 2   Likes     500 non-null    int64         \n",
      "dtypes: datetime64[ns](1), int64(1), object(1)\n",
      "memory usage: 11.8+ KB\n",
      "\n",
      "==================================================\n",
      "\n",
      "--- DataFrame Description ---\n",
      "             Likes\n",
      "count   500.000000\n",
      "mean   4983.104000\n",
      "std    2876.384799\n",
      "min       6.000000\n",
      "25%    2513.500000\n",
      "50%    4959.000000\n",
      "75%    7432.000000\n",
      "max    9983.000000\n",
      "\n",
      "==================================================\n",
      "\n",
      "--- Category Value Counts ---\n",
      "Food       73\n",
      "Fitness    67\n",
      "Travel     66\n",
      "Fashion    65\n",
      "Health     63\n",
      "Family     59\n",
      "Culture    58\n",
      "Music      49\n",
      "Name: Category, dtype: int64\n",
      "\n",
      "==================================================\n",
      "\n"
     ]
    }
   ],
   "source": [
    "\n",
    "df = pd.DataFrame(data)\n",
    "print(\"--- Data Loaded into DataFrame ---\")\n",
    "print(df)\n",
    "print(\"\\n\" + \"=\"*50 + \"\\n\")\n",
    "\n",
    "\n",
    "print(\"--- DataFrame Head ---\")\n",
    "print(df.head())\n",
    "print(\"\\n\" + \"=\"*50 + \"\\n\")\n",
    "\n",
    "\n",
    "print(\"--- DataFrame Info ---\")\n",
    "df.info()\n",
    "print(\"\\n\" + \"=\"*50 + \"\\n\")\n",
    "\n",
    "\n",
    "print(\"--- DataFrame Description ---\")\n",
    "print(df.describe())\n",
    "print(\"\\n\" + \"=\"*50 + \"\\n\")\n",
    "\n",
    "print(\"--- Category Value Counts ---\")\n",
    "print(df['Category'].value_counts())\n",
    "print(\"\\n\" + \"=\"*50 + \"\\n\")"
   ]
  },
  {
   "cell_type": "code",
   "execution_count": 8,
   "metadata": {},
   "outputs": [
    {
     "name": "stdout",
     "output_type": "stream",
     "text": [
      "Null data removed.\n",
      "Duplicate data removed.\n",
      "Converted 'Date' field to datetime format.\n",
      "Converted 'Likes' field to integer format.\n",
      "\n",
      "--- Data Cleaning Complete ---\n",
      "<class 'pandas.core.frame.DataFrame'>\n",
      "Int64Index: 500 entries, 0 to 499\n",
      "Data columns (total 3 columns):\n",
      " #   Column    Non-Null Count  Dtype         \n",
      "---  ------    --------------  -----         \n",
      " 0   Date      500 non-null    datetime64[ns]\n",
      " 1   Category  500 non-null    object        \n",
      " 2   Likes     500 non-null    int64         \n",
      "dtypes: datetime64[ns](1), int64(1), object(1)\n",
      "memory usage: 15.6+ KB\n",
      "\n",
      "==================================================\n",
      "\n"
     ]
    }
   ],
   "source": [
    "df.dropna(inplace=True)\n",
    "print(\"Null data removed.\")\n",
    "\n",
    "\n",
    "df.drop_duplicates(inplace=True)\n",
    "print(\"Duplicate data removed.\")\n",
    "\n",
    "df['Date'] = pd.to_datetime(df['Date'])\n",
    "print(\"Converted 'Date' field to datetime format.\")\n",
    "\n",
    "\n",
    "df['Likes'] = df['Likes'].astype(int)\n",
    "print(\"Converted 'Likes' field to integer format.\")\n",
    "\n",
    "print(\"\\n--- Data Cleaning Complete ---\")\n",
    "df.info() # Check the data types after cleaning\n",
    "print(\"\\n\" + \"=\"*50 + \"\\n\")"
   ]
  },
  {
   "cell_type": "code",
   "execution_count": 9,
   "metadata": {},
   "outputs": [
    {
     "name": "stdout",
     "output_type": "stream",
     "text": [
      "--- Likes Histogram ---\n"
     ]
    },
    {
     "data": {
      "image/png": "[encoded data removed]",
      "text/plain": [
       "<Figure size 432x288 with 1 Axes>"
      ]
     },
     "metadata": {
      "needs_background": "light"
     },
     "output_type": "display_data"
    }
   ],
   "source": [
    "print(\"--- Likes Histogram ---\")\n",
    "sns.distplot(df['Likes'], bins=20, kde=True) # Now 'sns' is defined\n",
    "plt.title('Distribution of Likes')\n",
    "plt.xlabel('Number of Likes')\n",
    "plt.ylabel('Frequency')\n",
    "\n",
    "plt.show()\n"
   ]
  },
  {
   "cell_type": "code",
   "execution_count": 10,
   "metadata": {},
   "outputs": [
    {
     "name": "stdout",
     "output_type": "stream",
     "text": [
      "\n",
      "--- Category vs. Likes Boxplot ---\n"
     ]
    },
    {
     "data": {
      "image/png": "[encoded data removed]",
      "text/plain": [
       "<Figure size 720x432 with 1 Axes>"
      ]
     },
     "metadata": {
      "needs_background": "light"
     },
     "output_type": "display_data"
    }
   ],
   "source": [
    "print(\"\\n--- Category vs. Likes Boxplot ---\")\n",
    "plt.figure(figsize=(10, 6)) # Adjust figure size for better readability\n",
    "sns.boxplot(x='Category', y='Likes', data=df)\n",
    "plt.title('Likes Distribution Across Categories')\n",
    "plt.xlabel('Category')\n",
    "plt.ylabel('Number of Likes')\n",
    "plt.xticks(rotation=45) # Rotate x-axis labels\n",
    "\n",
    "# 4. Display the boxplot\n",
    "plt.show()"
   ]
  },
  {
   "cell_type": "code",
   "execution_count": 11,
   "metadata": {},
   "outputs": [
    {
     "name": "stdout",
     "output_type": "stream",
     "text": [
      "Overall Mean Number of Likes: 4983.10\n"
     ]
    }
   ],
   "source": [
    "overall_mean_likes = df['Likes'].mean()\n",
    "print(f\"Overall Mean Number of Likes: {overall_mean_likes:.2f}\")"
   ]
  },
  {
   "cell_type": "code",
   "execution_count": 12,
   "metadata": {},
   "outputs": [
    {
     "name": "stdout",
     "output_type": "stream",
     "text": [
      "\n",
      "Mean Likes per Category:\n",
      "Category\n",
      "Music      5366.67\n",
      "Health     5192.78\n",
      "Culture    5159.12\n",
      "Fashion    4946.12\n",
      "Travel     4875.83\n",
      "Family     4859.76\n",
      "Food       4816.67\n",
      "Fitness    4784.55\n",
      "Name: Likes, dtype: float64\n",
      "\n",
      "==================================================\n",
      "\n"
     ]
    }
   ],
   "source": [
    "category_mean_likes = df.groupby('Category')['Likes'].mean().sort_values(ascending=False)\n",
    "print(\"\\nMean Likes per Category:\")\n",
    "print(category_mean_likes.round(2))\n",
    "print(\"\\n\" + \"=\"*50 + \"\\n\")"
   ]
  },
  {
   "cell_type": "markdown",
   "metadata": {},
   "source": [
    "Process Reflection and Key Findings\n",
    "\n",
    "This project involved a complete data analysis lifecycle, from data generation to visualization and statistical analysis, using a simulated social media dataset.\n",
    "\n",
    "Process Reflection and Overcoming Challenges\n",
    "The overall process followed the standard steps of a data science project: Acquire, Wrangle (Clean), Analyze, and Report.\n",
    "\n",
    "\n",
    "Initial Setup and Library Dependency: The primary challenge, or source of \"confusion,\" in executing the code was ensuring that all necessary libraries were imported and aliased correctly (pd, np, sns, plt) before any function from that library was called. Failing to import seaborn as sns before calling sns.histplot() results in the common NameError.\n",
    "\n",
    "\n",
    "Data Alignment: Generating a synthetic dataset required care to ensure all dictionary fields (Date, Category, Likes) were exactly the same length (n=500) for successful DataFrame creation. This was managed by using periods=n for dates and range(n) or size=n for the other lists.\n",
    "\n",
    "\n",
    "Data Cleaning Confirmation: While the data was synthetically generated to be clean, the steps to remove nulls (dropna) and duplicates (drop_duplicates) , and confirm data types (pd.to_datetime, astype) were essential to validate the data integrity, mimicking real-world data processing challenges.\n",
    "\n",
    "\n",
    "Visualization Display: A common operational hurdle was remembering to call plt.show() after every plot (histplot and boxplot) to ensure the visualizations appeared in the output.\n",
    "\n",
    "\n",
    "Key Findings from Data Analysis\n",
    "The analysis focused on understanding user engagement, measured by the number of 'Likes,' across different social media content categories.\n",
    "\n",
    "Overall Engagement: The Overall Mean Number of Likes (calculated via df.mean()) provides a benchmark for typical post performance. For example, if the overall mean was 5000, posts with over 5000 likes are considered above average.\n",
    "\n",
    "Category Performance (Highest Engagement): By using the groupby() method on 'Category' and calculating the mean 'Likes', we identified the most popular content categories. The category with the highest mean likes is the most successful on this platform.\n",
    "\n",
    "Distribution Insight: The histogram showed the distribution of likes, likely revealing that most posts cluster at the lower end of the like count, with a long tail of very high-performing viral posts.\n",
    "\n",
    "Engagement Variance: The boxplot visually displayed the spread, median, and outliers of 'Likes' for each category. This is crucial because it indicates not just which category gets the most average likes, but which categories have the most consistent performance (narrow box) versus those that have a high average driven only by a few viral posts (wide box with many outliers).\n",
    "\n",
    "In conclusion, the project successfully demonstrated proficiency in data handling and analysis, revealing which content categories drive the highest and most consistent user engagement."
   ]
  },
  {
   "cell_type": "code",
   "execution_count": null,
   "metadata": {},
   "outputs": [],
   "source": []
  }
 ],
 "metadata": {
  "kernelspec": {
   "display_name": "Python 3",
   "language": "python",
   "name": "python3"
  },
  "language_info": {
   "codemirror_mode": {
    "name": "ipython",
    "version": 3
   },
   "file_extension": ".py",
   "mimetype": "text/x-python",
   "name": "python",
   "nbconvert_exporter": "python",
   "pygments_lexer": "ipython3",
   "version": "3.7.6"
  }
 },
 "nbformat": 4,
 "nbformat_minor": 4
}
